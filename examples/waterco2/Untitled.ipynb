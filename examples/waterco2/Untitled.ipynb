{
 "cells": [
  {
   "cell_type": "code",
   "execution_count": 40,
   "metadata": {
    "collapsed": true
   },
   "outputs": [],
   "source": [
    "import numpy as np\n",
    "import pandas as pd\n",
    "from numpy.linalg import inv\n",
    "import matplotlib.pyplot as plt\n",
    "%matplotlib inline"
   ]
  },
  {
   "cell_type": "code",
   "execution_count": 8,
   "metadata": {
    "collapsed": false
   },
   "outputs": [],
   "source": [
    "jacobian_data = pd.read_csv('jacobian_finite_differenced.dat', sep=' ', header=None)"
   ]
  },
  {
   "cell_type": "markdown",
   "metadata": {},
   "source": [
    "Fill the jacobian with the raw data."
   ]
  },
  {
   "cell_type": "code",
   "execution_count": 38,
   "metadata": {
    "collapsed": false
   },
   "outputs": [],
   "source": [
    "jacobian = np.zeros((8,8))\n",
    "\n",
    "for i in range(0,len(jacobian_data)):\n",
    "    row = jacobian_data.icol(0)\n",
    "    col = jacobian_data.icol(1)\n",
    "    data = jacobian_data.icol(2)\n",
    "    \n",
    "    jacobian[row[i], col[i]] = data[i]"
   ]
  },
  {
   "cell_type": "code",
   "execution_count": 30,
   "metadata": {
    "collapsed": false
   },
   "outputs": [
    {
     "data": {
      "text/plain": [
       "7"
      ]
     },
     "execution_count": 30,
     "metadata": {},
     "output_type": "execute_result"
    }
   ],
   "source": [
    "jacobian_data.icol(0).irow(63)"
   ]
  },
  {
   "cell_type": "code",
   "execution_count": 39,
   "metadata": {
    "collapsed": false
   },
   "outputs": [
    {
     "data": {
      "text/plain": [
       "array([[ -3.21118000e+03,   2.29000000e-04,   0.00000000e+00,\n",
       "          0.00000000e+00,   0.00000000e+00,   0.00000000e+00,\n",
       "          0.00000000e+00,   0.00000000e+00],\n",
       "       [  1.23581000e+05,   7.90000000e-05,   0.00000000e+00,\n",
       "         -8.00000000e-06,  -1.03279000e+02,  -1.50000000e-05,\n",
       "         -1.03279000e+02,  -8.00000000e-06],\n",
       "       [  0.00000000e+00,   0.00000000e+00,  -3.21118000e+03,\n",
       "          2.29000000e-04,   0.00000000e+00,   0.00000000e+00,\n",
       "          0.00000000e+00,   0.00000000e+00],\n",
       "       [  0.00000000e+00,  -8.00000000e-06,   1.23581000e+05,\n",
       "          7.90000000e-05,  -1.03279000e+02,  -8.00000000e-06,\n",
       "         -1.03279000e+02,  -1.50000000e-05],\n",
       "       [  0.00000000e+00,   0.00000000e+00,   0.00000000e+00,\n",
       "          0.00000000e+00,  -3.21118000e+03,   2.29000000e-04,\n",
       "          0.00000000e+00,   0.00000000e+00],\n",
       "       [  0.00000000e+00,  -1.50000000e-05,   0.00000000e+00,\n",
       "         -7.00000000e-06,   1.23788000e+05,   7.90000000e-05,\n",
       "          0.00000000e+00,  -8.00000000e-06],\n",
       "       [  0.00000000e+00,   0.00000000e+00,   0.00000000e+00,\n",
       "          0.00000000e+00,   0.00000000e+00,   0.00000000e+00,\n",
       "         -3.21118000e+03,   2.29000000e-04],\n",
       "       [  0.00000000e+00,  -7.00000000e-06,   0.00000000e+00,\n",
       "         -1.50000000e-05,   0.00000000e+00,  -8.00000000e-06,\n",
       "          1.23788000e+05,   7.90000000e-05]])"
      ]
     },
     "execution_count": 39,
     "metadata": {},
     "output_type": "execute_result"
    }
   ],
   "source": [
    "jacobian"
   ]
  },
  {
   "cell_type": "markdown",
   "metadata": {},
   "source": [
    "Even rows refer to liquid saturation variable, and odd rows are the gas pressure."
   ]
  },
  {
   "cell_type": "code",
   "execution_count": 65,
   "metadata": {
    "collapsed": false
   },
   "outputs": [],
   "source": [
    "residual = np.zeros(8)\n",
    "residual[0] = -21.8046;\n",
    "residual[2] = -21.8046;\n",
    "residual[4] = 21.8046;\n",
    "residual[6] = 21.8046;"
   ]
  },
  {
   "cell_type": "code",
   "execution_count": 68,
   "metadata": {
    "collapsed": false
   },
   "outputs": [
    {
     "data": {
      "text/plain": [
       "array([  7.15455990e-05,  -9.42133371e+04,   7.15455990e-05,\n",
       "        -9.42133371e+04,  -7.07871159e-05,   9.42239731e+04,\n",
       "        -7.07871159e-05,   9.42239731e+04])"
      ]
     },
     "execution_count": 68,
     "metadata": {},
     "output_type": "execute_result"
    }
   ],
   "source": [
    "sol=np.linalg.solve(jacobian, residual)\n",
    "sol"
   ]
  },
  {
   "cell_type": "code",
   "execution_count": 67,
   "metadata": {
    "collapsed": false
   },
   "outputs": [
    {
     "data": {
      "text/plain": [
       "array([ -2.18046000e+01,   1.77635684e-15,  -2.18046000e+01,\n",
       "         1.77635684e-15,   2.18046000e+01,   1.77635684e-15,\n",
       "         2.18046000e+01,   0.00000000e+00])"
      ]
     },
     "execution_count": 67,
     "metadata": {},
     "output_type": "execute_result"
    }
   ],
   "source": [
    "np.dot(jacobian, sol)"
   ]
  },
  {
   "cell_type": "code",
   "execution_count": 70,
   "metadata": {
    "collapsed": false
   },
   "outputs": [
    {
     "data": {
      "text/plain": [
       "array([     0.        , -94213.33713259,      0.        , -94213.33713259,\n",
       "            0.        ,  94223.97305304,      0.        ,  94223.97305304])"
      ]
     },
     "execution_count": 70,
     "metadata": {},
     "output_type": "execute_result"
    }
   ],
   "source": [
    "sol[0]=0\n",
    "sol[2]=0\n",
    "sol[4]=0\n",
    "sol[6]=0\n",
    "sol"
   ]
  },
  {
   "cell_type": "code",
   "execution_count": 71,
   "metadata": {
    "collapsed": false
   },
   "outputs": [
    {
     "data": {
      "text/plain": [
       "array([-21.5748542 ,  -8.85629832, -21.5748542 ,  -8.85629832,\n",
       "        21.57728983,   8.7625955 ,  21.57728983,   8.7625955 ])"
      ]
     },
     "execution_count": 71,
     "metadata": {},
     "output_type": "execute_result"
    }
   ],
   "source": [
    "np.dot(jacobian, sol)"
   ]
  },
  {
   "cell_type": "code",
   "execution_count": null,
   "metadata": {
    "collapsed": true
   },
   "outputs": [],
   "source": []
  }
 ],
 "metadata": {
  "kernelspec": {
   "display_name": "Python 2",
   "language": "python",
   "name": "python2"
  },
  "language_info": {
   "codemirror_mode": {
    "name": "ipython",
    "version": 2
   },
   "file_extension": ".py",
   "mimetype": "text/x-python",
   "name": "python",
   "nbconvert_exporter": "python",
   "pygments_lexer": "ipython2",
   "version": "2.7.9"
  }
 },
 "nbformat": 4,
 "nbformat_minor": 0
}
