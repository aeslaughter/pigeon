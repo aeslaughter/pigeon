{
 "cells": [
  {
   "cell_type": "markdown",
   "metadata": {},
   "source": [
    "# Postprocessors #\n",
    "\n",
    "Various postprocessors are included, and verified below."
   ]
  },
  {
   "cell_type": "code",
   "execution_count": 1,
   "metadata": {
    "collapsed": true
   },
   "outputs": [],
   "source": [
    "import numpy as np\n",
    "import pandas as pd\n",
    "import matplotlib.pyplot as plt\n",
    "%matplotlib inline"
   ]
  },
  {
   "cell_type": "markdown",
   "metadata": {},
   "source": [
    "## Component mass ##\n",
    "\n",
    "The ComponentMassPostProcessor calculates the total mass of a speciifed component over a single or multiple phases.\n",
    "\n",
    "### Immiscible fluids ###\n",
    "\n",
    "The first test is a 1 x 1 x 1 mesh with unit volume, porosity 0.25, liquid saturation 0.7 and gas saturation 0.3. Liquid is water at 1 MPa and 100 C, and gas is CO$_2$ at the same pressure and temperature. No mutual solubility included.\n",
    "\n",
    "At these conditions, the density of water is 958.77 kg/m^3, and the density of CO$_2$ is 14.525 kg/m^3 (http://webbook.nist.gov)."
   ]
  },
  {
   "cell_type": "code",
   "execution_count": 22,
   "metadata": {
    "collapsed": false
   },
   "outputs": [
    {
     "name": "stdout",
     "output_type": "stream",
     "text": [
      "Total water mass is 167.78475\n",
      "Total co2 mass is 1.089375\n"
     ]
    }
   ],
   "source": [
    "water_density = 958.77\n",
    "co2_density = 14.525\n",
    "volume = 1\n",
    "porosity = 0.25\n",
    "water_saturation = 0.7\n",
    "gas_saturation = 0.3\n",
    "\n",
    "water_mass =  water_density * volume * water_saturation * porosity\n",
    "co2_mass =  co2_density * volume * gas_saturation * porosity\n",
    "\n",
    "print \"Total water mass is\", water_mass\n",
    "print \"Total co2 mass is\", co2_mass"
   ]
  },
  {
   "cell_type": "markdown",
   "metadata": {},
   "source": [
    "The MOOSE mass are"
   ]
  },
  {
   "cell_type": "code",
   "execution_count": 36,
   "metadata": {
    "collapsed": false
   },
   "outputs": [
    {
     "name": "stdout",
     "output_type": "stream",
     "text": [
      "Total water mass is 167.777419133\n",
      "Total co2 mass is 1.08255204907\n"
     ]
    }
   ],
   "source": [
    "moosedata1 = pd.read_csv('../../../tests/postprocessors/gold/MassPostProcessor1.csv', header = 0)\n",
    "\n",
    "print \"Total water mass is\", moosedata1.totalh2omass[0]\n",
    "print \"Total co2 mass is\", moosedata1.totalco2mass[0]"
   ]
  },
  {
   "cell_type": "markdown",
   "metadata": {},
   "source": [
    "The error in these results is"
   ]
  },
  {
   "cell_type": "code",
   "execution_count": 37,
   "metadata": {
    "collapsed": false
   },
   "outputs": [
    {
     "name": "stdout",
     "output_type": "stream",
     "text": [
      "Relative error in water mass  4.36920928152e-05\n",
      "Relative error in co2 mass  0.00626317928473\n"
     ]
    }
   ],
   "source": [
    "print \"Relative error in water mass \" ,(water_mass - moosedata1.totalh2omass[0])/water_mass\n",
    "print \"Relative error in co2 mass \" ,(co2_mass - moosedata1.totalco2mass[0])/co2_mass"
   ]
  },
  {
   "cell_type": "markdown",
   "metadata": {},
   "source": [
    "This error is attributed to the error in density for water and co2 used in the fluid property correlations. If we use the MOOSE values for densities, the water and co2 mass are identical to those reported my the postprocessor."
   ]
  },
  {
   "cell_type": "code",
   "execution_count": 38,
   "metadata": {
    "collapsed": false
   },
   "outputs": [
    {
     "name": "stdout",
     "output_type": "stream",
     "text": [
      "Total water mass is 167.777419133\n",
      "Total co2 mass is 1.08255204907\n"
     ]
    }
   ],
   "source": [
    "print \"Total water mass is\", moosedata1.liquid_density[0] * volume * water_saturation * porosity\n",
    "print \"Total co2 mass is\", moosedata1.gas_density[0] * volume * gas_saturation * porosity"
   ]
  },
  {
   "cell_type": "markdown",
   "metadata": {},
   "source": [
    "###  Including solubility ###\n",
    "\n",
    "The second test is also 1 x 1 x 1 mesh with unit volume, porosity 0.25, liquid saturation 0.7 and gas saturation 0.3. Liquid is water at 1 MPa and 100 C, and gas is CO$_2$ at the same pressure and temperature. \n",
    "\n",
    "In this case, however, the WaterCO2 fluid state is used, which calculates the mass fraction of CO2 in liquid and H2O in gas. The sum of the mass of each component in each phase should give the total masses calculated by the postprocessor.\n"
   ]
  },
  {
   "cell_type": "code",
   "execution_count": 42,
   "metadata": {
    "collapsed": false,
    "scrolled": true
   },
   "outputs": [
    {
     "name": "stdout",
     "output_type": "stream",
     "text": [
      "Total water mass is 167.26803928\n",
      "Total co2 mass is 1.69507212873\n"
     ]
    }
   ],
   "source": [
    "moosedata2 = pd.read_csv('../../../tests/postprocessors/gold/MassPostProcessor2.csv', header = 0)\n",
    "\n",
    "print \"Total water mass is\", moosedata2.totalh2omass[0]\n",
    "print \"Total co2 mass is\", moosedata2.totalco2mass[0]"
   ]
  },
  {
   "cell_type": "markdown",
   "metadata": {},
   "source": [
    "Calculating the mass in each phase and comparing it to the value provided by the postprocessor."
   ]
  },
  {
   "cell_type": "code",
   "execution_count": 57,
   "metadata": {
    "collapsed": false
   },
   "outputs": [
    {
     "name": "stdout",
     "output_type": "stream",
     "text": [
      "Caculated total H2O mass = 167.26803928 , MOOSE result = 167.26803928\n",
      "Caculated total CO2 mass = 1.69507212873 , MOOSE result = 1.69507212873\n"
     ]
    }
   ],
   "source": [
    "h2oliquid = moosedata2.xh2ol[0] * moosedata2.liquid_density[0] * water_saturation * porosity\n",
    "h2ogas = moosedata2.xh2og[0] * moosedata2.gas_density[0] * gas_saturation * porosity\n",
    "co2liquid = moosedata2.xco2l[0] * moosedata2.liquid_density[0] * water_saturation * porosity\n",
    "co2gas = moosedata2.xco2g[0] * moosedata2.gas_density[0] * gas_saturation * porosity\n",
    "\n",
    "print \"Caculated total H2O mass =\", h2oliquid + h2ogas, \", MOOSE result =\", moosedata2.totalh2omass[0]\n",
    "print \"Caculated total CO2 mass =\", co2liquid + co2gas, \", MOOSE result =\", moosedata2.totalco2mass[0]"
   ]
  },
  {
   "cell_type": "code",
   "execution_count": null,
   "metadata": {
    "collapsed": true
   },
   "outputs": [],
   "source": []
  }
 ],
 "metadata": {
  "kernelspec": {
   "display_name": "Python 2",
   "language": "python",
   "name": "python2"
  },
  "language_info": {
   "codemirror_mode": {
    "name": "ipython",
    "version": 2
   },
   "file_extension": ".py",
   "mimetype": "text/x-python",
   "name": "python",
   "nbconvert_exporter": "python",
   "pygments_lexer": "ipython2",
   "version": "2.7.9"
  }
 },
 "nbformat": 4,
 "nbformat_minor": 0
}
