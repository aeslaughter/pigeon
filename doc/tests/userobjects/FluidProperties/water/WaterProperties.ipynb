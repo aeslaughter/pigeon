{
 "cells": [
  {
   "cell_type": "markdown",
   "metadata": {},
   "source": [
    "# Thermophysical properties of water #\n",
    "\n",
    "Thermophysical properties of water used in MOOSE. \n",
    "\n",
    "The density formulation is from *Revised Release on the IAPWS Industrial Formulation 1997 for the Thermodynamic Properties of Water and Steam*.\n",
    "\n",
    "The viscosity formulation is from *Release on the IAPWS Formulation 2008 for the Viscosity of Ordinary Water Substance*. Note that the enhancement near the critical point has not been included."
   ]
  },
  {
   "cell_type": "code",
   "execution_count": 1,
   "metadata": {
    "collapsed": true
   },
   "outputs": [],
   "source": [
    "import numpy as np\n",
    "import pandas as pd\n",
    "import matplotlib.pyplot as plt\n",
    "%matplotlib inline"
   ]
  },
  {
   "cell_type": "markdown",
   "metadata": {},
   "source": [
    "## Phase diagram ##\n",
    "\n",
    "<img src=water_phase_diagram.svg width=600>\n",
    "\n",
    "* The **triple point** is $P_t = 611.657$ Pa, $T_t = 0.01$ C (273.16 K)\n",
    "* The **critical point** is  $P_c = 22.064$ MPa, $T_c = 373.946$ C (647.096 K)\n"
   ]
  },
  {
   "cell_type": "markdown",
   "metadata": {},
   "source": [
    "The IAPWS formulation partitions the phase diagram into several regions, and provides formulations appropriate for each region seperately. \n",
    "\n",
    "## Region 1 ##\n",
    "#### 273.15 K <= T <= 623.15 K, Psat(T) <= P <= 100 MPa ####\n",
    "\n",
    "In this region, water is in its aqueous form.\n",
    "\n",
    "\n",
    "###Density###\n",
    "Density of water as a function of pressure and temperature in region 1.\n",
    "\n",
    "MOOSE data taken from test suite problems. Comparison with verification data from IAPWS IF97."
   ]
  },
  {
   "cell_type": "code",
   "execution_count": 4,
   "metadata": {
    "collapsed": false
   },
   "outputs": [],
   "source": [
    "moose_data1 = pd.read_csv('../../../../../tests/userobjects/FluidProperties/water/gold/WaterProperty_region1_density1_vpp_0001.csv')\n",
    "moose_data2 = pd.read_csv('../../../../../tests/userobjects/FluidProperties/water/gold/WaterProperty_region1_density2_vpp_0001.csv')\n",
    "moose_data3 = pd.read_csv('../../../../../tests/userobjects/FluidProperties/water/gold/WaterProperty_region1_density3_vpp_0001.csv')"
   ]
  },
  {
   "cell_type": "code",
   "execution_count": 25,
   "metadata": {
    "collapsed": false
   },
   "outputs": [
    {
     "name": "stdout",
     "output_type": "stream",
     "text": [
      "P = 3MPa, T = 300K, MOOSE density =  997.852940098 , IAPWS density =  997.852939787 , % error =  3.12631217675e-10\n",
      "P = 3MPa, T = 500K, MOOSE density =  831.657541047 , IAPWS density =  831.657543383 , % error =  -2.8096248579e-09\n",
      "P = 80MPa, T = 300K, MOOSE density =  1029.67429256 , IAPWS density =  1029.67429258 , % error =  -2.227597775e-11\n"
     ]
    }
   ],
   "source": [
    "md1 = moose_data1.WaterPropertyAuxVariable[0]\n",
    "md2 = moose_data2.WaterPropertyAuxVariable[0]\n",
    "md3 = moose_data3.WaterPropertyAuxVariable[0]\n",
    "iapws1 = 1/(0.00100215168)\n",
    "iapws2 = 1/(0.001202418)\n",
    "iapws3 = 1/(0.000971180894)\n",
    "\n",
    "print \"P = 3MPa, T = 300K, MOOSE density = \", md1, \", IAPWS density = \", iapws1, \", % error = \", (md1-iapws1)/iapws1\n",
    "print \"P = 3MPa, T = 500K, MOOSE density = \", md2, \", IAPWS density = \", iapws2, \", % error = \", (md2-iapws2)/iapws2\n",
    "print \"P = 80MPa, T = 300K, MOOSE density = \", md3, \", IAPWS density = \", iapws3, \", % error = \", (md3-iapws3)/iapws3"
   ]
  },
  {
   "cell_type": "markdown",
   "metadata": {},
   "source": [
    "## Region 2 ##\n",
    "#### 273.15 K <= T <= 623.15 K, 0 < P <  Psat(T) ####\n",
    "#### 623.15 K <= T <= 863.15 K, 0 < P <  Psat(T) ####\n",
    "#### 863.15 K <= T <= 1073.15 K, 0 < P <  100 MPa ####\n",
    "\n",
    "In this region, water exists as a vapour.\n",
    "\n",
    "###Density###\n",
    "Density of water as a function of pressure and temperature in region 2.\n",
    "\n",
    "MOOSE data taken from test suite problems. Verification data from IAPWS IF97."
   ]
  },
  {
   "cell_type": "code",
   "execution_count": 26,
   "metadata": {
    "collapsed": false
   },
   "outputs": [],
   "source": [
    "moose_data1 = pd.read_csv('../../../../../tests/userobjects/FluidProperties/water/gold/WaterProperty_region2_density1_vpp_0001.csv')\n",
    "moose_data2 = pd.read_csv('../../../../../tests/userobjects/FluidProperties/water/gold/WaterProperty_region2_density2_vpp_0001.csv')\n",
    "moose_data3 = pd.read_csv('../../../../../tests/userobjects/FluidProperties/water/gold/WaterProperty_region2_density3_vpp_0001.csv')"
   ]
  },
  {
   "cell_type": "code",
   "execution_count": 29,
   "metadata": {
    "collapsed": false
   },
   "outputs": [
    {
     "name": "stdout",
     "output_type": "stream",
     "text": [
      "P = 0.0035MPa, T = 300K, MOOSE density =  0.0253219774016 , IAPWS density =  0.0253219774258 , % error =  -9.56240142762e-10\n",
      "P = 0.0035MPa, T = 700K, MOOSE density =  0.0108340495757 , IAPWS density =  0.0108340495778 , % error =  -1.88751589192e-10\n",
      "P = 30MPa, T = 700K, MOOSE density =  184.18016876 , IAPWS density =  184.180168916 , % error =  -8.50497502084e-10\n"
     ]
    }
   ],
   "source": [
    "md1 = moose_data1.WaterPropertyAuxVariable[0]\n",
    "md2 = moose_data2.WaterPropertyAuxVariable[0]\n",
    "md3 = moose_data3.WaterPropertyAuxVariable[0]\n",
    "iapws1 = 1/(39.4913866)\n",
    "iapws2 = 1/(92.3015898)\n",
    "iapws3 = 1/(0.00542946619)\n",
    "\n",
    "print \"P = 0.0035MPa, T = 300K, MOOSE density = \", md1, \", IAPWS density = \", iapws1, \", % error = \", (md1-iapws1)/iapws1\n",
    "print \"P = 0.0035MPa, T = 700K, MOOSE density = \", md2, \", IAPWS density = \", iapws2, \", % error = \", (md2-iapws2)/iapws2\n",
    "print \"P = 30MPa, T = 700K, MOOSE density = \", md3, \", IAPWS density = \", iapws3, \", % error = \", (md3-iapws3)/iapws3"
   ]
  },
  {
   "cell_type": "markdown",
   "metadata": {},
   "source": [
    "## Saturation pressure ##\n",
    "\n",
    "Saturation pressure equation as a function of temperature - Eq. (30) from *Revised Release on the IAPWS Industrial Formulation 1997 for the Thermodynamic Properties of Water and Steam*. Valid from 273.15 K <= T <= 647.096 K."
   ]
  },
  {
   "cell_type": "code",
   "execution_count": 57,
   "metadata": {
    "collapsed": false
   },
   "outputs": [],
   "source": [
    "moose_data = pd.read_csv('../../../../../tests/userobjects/FluidProperties/water/gold/WaterProperty_pSat_vpp_0001.csv')"
   ]
  },
  {
   "cell_type": "markdown",
   "metadata": {},
   "source": [
    "Read in data obtained from NIST webbook (http://webbook.nist.gov/chemistry/fluid/), and the verification data from the IAPWS IF97."
   ]
  },
  {
   "cell_type": "code",
   "execution_count": 80,
   "metadata": {
    "collapsed": false
   },
   "outputs": [],
   "source": [
    "colnames = ['Temperature', 'Pressure']\n",
    "nist_data = pd.read_csv('gold/water_saturation_pressure_nist.csv', header=None, names=colnames)\n",
    "iapws_data = np.array([[300 - 273.15, 0.353658941*1e-2], [500-273.15, 0.26388976*1e1],[600-273.15, 0.123443146*1e2]])"
   ]
  },
  {
   "cell_type": "code",
   "execution_count": 87,
   "metadata": {
    "collapsed": false
   },
   "outputs": [
    {
     "data": {
      "text/plain": [
       "<matplotlib.text.Text at 0x10a2fd5d0>"
      ]
     },
     "execution_count": 87,
     "metadata": {},
     "output_type": "execute_result"
    },
    {
     "data": {
      "image/png": "[encoded data removed]",
      "text/plain": [
       "<matplotlib.figure.Figure at 0x10b7a8ed0>"
      ]
     },
     "metadata": {},
     "output_type": "display_data"
    }
   ],
   "source": [
    "plt.plot(10. + 170. * moose_data.x, moose_data.WaterPropertyAuxVariable/1.e6,'o', label='MOOSE')\n",
    "plt.plot(nist_data.Temperature, nist_data.Pressure, label='NIST')\n",
    "plt.plot(iapws_data[:,0], iapws_data[:,1], 'o', label = 'IAPWS')\n",
    "plt.legend(loc='upper left')\n",
    "plt.xlabel('Temperature (C)')\n",
    "plt.ylabel('Saturation Pressure (MPa)')"
   ]
  },
  {
   "cell_type": "markdown",
   "metadata": {},
   "source": [
    "## Saturation temperature ##\n",
    "\n",
    "Saturation temperature equation as a function of pressure - Eq. (31) from *Revised Release on the IAPWS Industrial Formulation 1997 for the Thermodynamic Properties of Water and Steam*. Valid for 611.213 Pa <= P << 22.064 MPa."
   ]
  },
  {
   "cell_type": "code",
   "execution_count": 88,
   "metadata": {
    "collapsed": false
   },
   "outputs": [],
   "source": [
    "moose_data = pd.read_csv('../../../../../tests/userobjects/FluidProperties/water/gold/WaterProperty_tSat_vpp_0001.csv')"
   ]
  },
  {
   "cell_type": "markdown",
   "metadata": {},
   "source": [
    "Read in data obtained from NIST webbook (http://webbook.nist.gov/chemistry/fluid/), and the verification data from the IAPWS IF97."
   ]
  },
  {
   "cell_type": "code",
   "execution_count": 98,
   "metadata": {
    "collapsed": true
   },
   "outputs": [],
   "source": [
    "colnames = ['Temperature', 'Pressure']\n",
    "nist_data = pd.read_csv('gold/water_saturation_temperature_nist.csv', header=None, names=colnames)\n",
    "iapws_data = np.array([[0.1, 372.755919-273.15], [1, 453.035632-273.15],[10, 584.149488-273.15]])"
   ]
  },
  {
   "cell_type": "code",
   "execution_count": 99,
   "metadata": {
    "collapsed": false
   },
   "outputs": [
    {
     "data": {
      "text/plain": [
       "<matplotlib.legend.Legend at 0x10c47a3d0>"
      ]
     },
     "execution_count": 99,
     "metadata": {},
     "output_type": "execute_result"
    },
    {
     "data": {
      "image/png": "[encoded data removed]",
      "text/plain": [
       "<matplotlib.figure.Figure at 0x10ba72e50>"
      ]
     },
     "metadata": {},
     "output_type": "display_data"
    }
   ],
   "source": [
    "plt.plot((10**moose_data.x/10.), moose_data.WaterPropertyAuxVariable, 'o', label='MOOSE')\n",
    "plt.plot(nist_data.Pressure, nist_data.Temperature, label='NIST')\n",
    "plt.plot(iapws_data[:,0], iapws_data[:,1], 'o', label = 'IAPWS')\n",
    "plt.ylabel('Saturation temperature (C)')\n",
    "plt.xlabel('Pressure (MPa)')\n",
    "plt.legend(loc='upper left')"
   ]
  },
  {
   "cell_type": "markdown",
   "metadata": {},
   "source": [
    "## Viscosity ##\n",
    "\n",
    "The viscosity of water defined in *Release on the IAPWS Formulation 2008 for the Viscosity of Ordinary Water Substance*. Note that the enhancement near the critical point has not been included."
   ]
  },
  {
   "cell_type": "markdown",
   "metadata": {},
   "source": [
    "Read in data obtained from NIST webbook (http://webbook.nist.gov/chemistry/fluid/)."
   ]
  },
  {
   "cell_type": "code",
   "execution_count": 103,
   "metadata": {
    "collapsed": true
   },
   "outputs": [],
   "source": [
    "nist_data = pd.read_csv('gold/water_properties_nist_t50.txt', delimiter='\\t', header=None)"
   ]
  },
  {
   "cell_type": "code",
   "execution_count": 107,
   "metadata": {
    "collapsed": true
   },
   "outputs": [],
   "source": [
    "moose_data = pd.read_csv('../../../../../tests/userobjects/FluidProperties/water/gold/WaterProperty_viscosity2_vpp_0001.csv')"
   ]
  },
  {
   "cell_type": "code",
   "execution_count": 108,
   "metadata": {
    "collapsed": false
   },
   "outputs": [
    {
     "data": {
      "text/plain": [
       "[<matplotlib.lines.Line2D at 0x10c881b10>]"
      ]
     },
     "execution_count": 108,
     "metadata": {},
     "output_type": "execute_result"
    },
    {
     "data": {
      "image/png": "[encoded data removed]",
      "text/plain": [
       "<matplotlib.figure.Figure at 0x10c7ab210>"
      ]
     },
     "metadata": {},
     "output_type": "display_data"
    }
   ],
   "source": [
    "plt.plot(nist_data.icol(1),nist_data.icol(11)/1.e6)\n",
    "plt.plot((1+9.5 * moose_data.x), moose_data.WaterPropertyAuxVariable,'o', label='MOOSE')"
   ]
  },
  {
   "cell_type": "markdown",
   "metadata": {},
   "source": [
    "The percentage error between the NIST data and MOOSE data is a maximum at P=1MPa, but is still only 0.05%."
   ]
  },
  {
   "cell_type": "code",
   "execution_count": 111,
   "metadata": {
    "collapsed": false
   },
   "outputs": [
    {
     "data": {
      "text/plain": [
       "0.00054392810188279479"
      ]
     },
     "execution_count": 111,
     "metadata": {},
     "output_type": "execute_result"
    }
   ],
   "source": [
    "(nist_data.icol(11)[0]/1.e6 - moose_data.WaterPropertyAuxVariable[0])/(nist_data.icol(11)[0]/1.e6)"
   ]
  }
 ],
 "metadata": {
  "kernelspec": {
   "display_name": "Python 2",
   "language": "python",
   "name": "python2"
  },
  "language_info": {
   "codemirror_mode": {
    "name": "ipython",
    "version": 2
   },
   "file_extension": ".py",
   "mimetype": "text/x-python",
   "name": "python",
   "nbconvert_exporter": "python",
   "pygments_lexer": "ipython2",
   "version": "2.7.9"
  }
 },
 "nbformat": 4,
 "nbformat_minor": 0
}
