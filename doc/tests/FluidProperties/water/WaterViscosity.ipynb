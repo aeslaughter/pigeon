{
 "cells": [
  {
   "cell_type": "markdown",
   "metadata": {},
   "source": [
    "# Test water viscosity function #\n",
    "\n",
    "Test the viscosity function of the water properties userobject."
   ]
  },
  {
   "cell_type": "code",
   "execution_count": 3,
   "metadata": {
    "collapsed": true
   },
   "outputs": [],
   "source": [
    "import numpy as np\n",
    "import pandas as pd\n",
    "import matplotlib.pyplot as plt\n",
    "%matplotlib inline"
   ]
  },
  {
   "cell_type": "markdown",
   "metadata": {},
   "source": [
    "The viscosity of water defined in *Release on the IAPWS Formulation 2008 for the Viscosity of Ordinary Water Substance*. Note that the enhancement near the critical point has not been included."
   ]
  },
  {
   "cell_type": "code",
   "execution_count": 47,
   "metadata": {
    "collapsed": true
   },
   "outputs": [],
   "source": [
    "def viscosity(t, rho) :\n",
    "    \n",
    "    t_c2k = 273.15\n",
    "    d_critical=322.0\n",
    "    t_critical=647.096\n",
    "    mu_star=1.0e-6\n",
    "    \n",
    "    \n",
    "    ivs = [0,1,2,3,0,1,2,3,5,0,1,2,3,4,0,1,0,3,4,3,5]\n",
    "    jvs = [0,0,0,0,1,1,1,1,1,2,2,2,2,2,3,3,4,4,5,6,6]\n",
    "    h0v = [1.67752, 2.20462, 0.6366564, -0.241605]\n",
    "    h1v = [5.20094e-1, 8.50895e-2, -1.08374, -2.89555e-1, 2.22531e-1, 9.99115e-1,\n",
    "           1.88797, 1.26613, 1.20573e-1, -2.81378e-1, -9.06851e-1, -7.72479e-1,\n",
    "           -4.89837e-1, -2.57040e-1, 1.61913e-1, 2.57399e-1, -3.25372e-2, 6.98452e-2,\n",
    "           8.72102e-3, -4.35673e-3, -5.93264e-4]\n",
    "    tauipow = np.zeros(4)\n",
    "    tspow = np.zeros(6)\n",
    "    dspow = np.zeros(7)\n",
    "\n",
    "    tk = t + t_c2k\n",
    "    tau = tk / t_critical\n",
    "    delr = rho / d_critical\n",
    "\n",
    "    tauipow[0]=1.\n",
    "    tauipow[1]=1. / tau\n",
    "    tauipow[2]=tauipow[1]*tauipow[1]\n",
    "    tauipow[3]=tauipow[2]*tauipow[1]\n",
    "\n",
    "    tspow[0]=1.\n",
    "    tspow[1]=tauipow[1]-1.\n",
    "    tspow[2]=tspow[1]*tspow[1]\n",
    "    tspow[3]=tspow[2]*tspow[1]\n",
    "    tspow[4]=tspow[2]*tspow[2]\n",
    "    tspow[5]=tspow[3]*tspow[2]\n",
    "\n",
    "    dspow[0]=1.\n",
    "    dspow[1]=delr-1.\n",
    "    dspow[2]=dspow[1]*dspow[1]\n",
    "    dspow[3]=dspow[2]*dspow[1]\n",
    "    dspow[4]=dspow[2]*dspow[2]\n",
    "    dspow[5]=dspow[3]*dspow[2]\n",
    "    dspow[6]=dspow[3]*dspow[3]\n",
    "\n",
    "    s0=0.\n",
    "    for i in xrange(0,4) :\n",
    "        s0=s0 + h0v[i] * tauipow[i]\n",
    "    mu0=100. * np.sqrt(tau) / s0\n",
    "    \n",
    "    s1=0.\n",
    "    for i in xrange(0,21) :\n",
    "        s1 = s1 + tspow[ivs[i]] * h1v[i] * dspow[jvs[i]]\n",
    "\n",
    "    mu1 = np.exp(delr * s1)\n",
    "\n",
    "    return mu_star * mu0 * mu1"
   ]
  },
  {
   "cell_type": "markdown",
   "metadata": {},
   "source": [
    "Comparing the results with the tabulated verification points provided in Table 4 of *Release on the IAPWS Formulation 2008 for the Viscosity of Ordinary Water Substance*."
   ]
  },
  {
   "cell_type": "code",
   "execution_count": 50,
   "metadata": {
    "collapsed": false
   },
   "outputs": [
    {
     "name": "stdout",
     "output_type": "stream",
     "text": [
      "889.73510015\n",
      "1437.64946669\n",
      "307.883622342\n",
      "14.5383244858\n",
      "217.685358265\n",
      "32.619286974\n",
      "35.8022617219\n",
      "77.4301952273\n",
      "44.2172445147\n",
      "47.6404330811\n",
      "64.1546078484\n"
     ]
    }
   ],
   "source": [
    "print viscosity(298.15-273.15, 998)*1e6\n",
    "print viscosity(298.15-273.15, 1200)*1e6\n",
    "print viscosity(373.15-273.15, 1000)*1e6\n",
    "print viscosity(433.15-273.15, 1)*1e6\n",
    "print viscosity(433.15-273.15, 1000)*1e6\n",
    "print viscosity(873.15-273.15, 1)*1e6\n",
    "print viscosity(873.15-273.15, 100)*1e6\n",
    "print viscosity(873.15-273.15, 600)*1e6\n",
    "print viscosity(1173.15-273.15, 1)*1e6\n",
    "print viscosity(1173.15-273.15, 100)*1e6\n",
    "print viscosity(1173.15-273.15, 400)*1e6"
   ]
  },
  {
   "cell_type": "code",
   "execution_count": null,
   "metadata": {
    "collapsed": true
   },
   "outputs": [],
   "source": []
  }
 ],
 "metadata": {
  "kernelspec": {
   "display_name": "Python 2",
   "language": "python",
   "name": "python2"
  },
  "language_info": {
   "codemirror_mode": {
    "name": "ipython",
    "version": 2
   },
   "file_extension": ".py",
   "mimetype": "text/x-python",
   "name": "python",
   "nbconvert_exporter": "python",
   "pygments_lexer": "ipython2",
   "version": "2.7.9"
  }
 },
 "nbformat": 4,
 "nbformat_minor": 0
}
