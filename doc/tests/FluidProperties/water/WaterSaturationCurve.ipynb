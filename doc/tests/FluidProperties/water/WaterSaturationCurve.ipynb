{
 "cells": [
  {
   "cell_type": "code",
   "execution_count": 59,
   "metadata": {
    "collapsed": true
   },
   "outputs": [],
   "source": [
    "import numpy as np\n",
    "import pandas as pd\n",
    "import matplotlib.pyplot as plt\n",
    "%matplotlib inline"
   ]
  },
  {
   "cell_type": "markdown",
   "metadata": {},
   "source": [
    "## Saturation pressure ##\n",
    "\n",
    "Saturation pressure equation as a function of temperature - Eq. (30) from *Revised Release on the IAPWS Industrial Formulation 1997 for the Thermodynamic Properties of Water and Steam*. Valid from 273.15 K <= T <= 647.096 K."
   ]
  },
  {
   "cell_type": "code",
   "execution_count": 28,
   "metadata": {
    "collapsed": false
   },
   "outputs": [],
   "source": [
    "def psat(t) :\n",
    "    t_critical = 647.3\n",
    "    tc2k = 273.15\n",
    "    pstar4 = 1e6\n",
    "    \n",
    "    nr4 = [0.11670521452767e4, -0.72421316703206e6, -0.17073846940092e2, 0.12020824702470e5, -0.32325550322333e7,\n",
    "           0.14915108613530e2, -0.48232657361591e4, 0.40511340542057e6, -0.238555575678490, 0.65017534844798e3]\n",
    "    \n",
    "    if ((t>=0.)&(t<=t_critical+tc2k)) :\n",
    "        tk=t+tc2k\n",
    "        theta=tk+nr4[8]/(tk-nr4[9])\n",
    "        theta2=theta*theta\n",
    "        a=theta2+nr4[0]*theta+nr4[1]\n",
    "        b=nr4[2]*theta2+nr4[3]*theta+nr4[4]\n",
    "        c=nr4[5]*theta2+nr4[6]*theta+nr4[7]\n",
    "        x=2.*c/(-b+np.sqrt(b*b-4.*a*c))\n",
    "        x2=x*x\n",
    "        p=pstar4*x2*x2\n",
    "  \n",
    "    return p"
   ]
  },
  {
   "cell_type": "markdown",
   "metadata": {},
   "source": [
    "Comparing the result of this calculation with the verification solutions given in Table 35 of *Revised Release on the IAPWS Industrial Formulation 1997 for the Thermodynamic Properties of Water and Steam*.\n",
    "\n",
    "\n",
    "T = $300$ K, P = $0.353\\,658\\,941 \\times 10^{-2}$ MPa\n",
    "\n",
    "T = $500$ K, P = $0.263\\,889\\,776 \\times 10^{1}$ MPa\n",
    "\n",
    "T = $600$ K, P = $0.123\\,443\\,146 \\times 10^{2}$ MPa\n"
   ]
  },
  {
   "cell_type": "code",
   "execution_count": 42,
   "metadata": {
    "collapsed": false
   },
   "outputs": [
    {
     "name": "stdout",
     "output_type": "stream",
     "text": [
      "T = 300K, Psat =  0.00353658941301\n",
      "T = 500K, Psat =  2.63889775627\n",
      "T = 600K, Psat =  12.3443145784\n"
     ]
    }
   ],
   "source": [
    "print 'T = 300K, Psat = ',psat(300-273.15)/1e6\n",
    "print 'T = 500K, Psat = ',psat(500-273.15)/1e6\n",
    "print 'T = 600K, Psat = ',psat(600-273.15)/1e6"
   ]
  },
  {
   "cell_type": "markdown",
   "metadata": {},
   "source": [
    "Read in data obtained from NIST webbook (www.nist.giv)."
   ]
  },
  {
   "cell_type": "code",
   "execution_count": 95,
   "metadata": {
    "collapsed": false
   },
   "outputs": [],
   "source": [
    "colnames = ['Temperature', 'Pressure']\n",
    "nist_data = pd.read_csv('gold/water_saturation_pressure_nist.txt', delimiter ='\\t', header=None, names=colnames)"
   ]
  },
  {
   "cell_type": "markdown",
   "metadata": {},
   "source": [
    "Read in the MOOSE data from the FluidProperties UserObject."
   ]
  },
  {
   "cell_type": "code",
   "execution_count": 86,
   "metadata": {
    "collapsed": false
   },
   "outputs": [],
   "source": [
    "moose_data = pd.read_csv('gold/WaterProperty_pSat_vpp_0001.csv')"
   ]
  },
  {
   "cell_type": "code",
   "execution_count": 105,
   "metadata": {
    "collapsed": false
   },
   "outputs": [
    {
     "data": {
      "text/plain": [
       "<matplotlib.legend.Legend at 0x109370450>"
      ]
     },
     "execution_count": 105,
     "metadata": {},
     "output_type": "execute_result"
    },
    {
     "data": {
      "image/png": "[encoded data removed]",
      "text/plain": [
       "<matplotlib.figure.Figure at 0x10911fd90>"
      ]
     },
     "metadata": {},
     "output_type": "display_data"
    }
   ],
   "source": [
    "plt.plot(10. + 170. * moose_data.x, moose_data.WaterPropertyAuxVariable/1.e6,'o', label='MOOSE')\n",
    "plt.plot(nist_data.Temperature, nist_data.Pressure, label='NIST')\n",
    "plt.legend(loc='upper left')"
   ]
  },
  {
   "cell_type": "markdown",
   "metadata": {},
   "source": [
    "## Saturation temperature ##\n",
    "\n",
    "Saturation temperature equation as a function of pressure - Eq. (31) from *Revised Release on the IAPWS Industrial Formulation 1997 for the Thermodynamic Properties of Water and Steam*. Valid for 611.213 Pa <= P << 22.064 MPa."
   ]
  },
  {
   "cell_type": "code",
   "execution_count": 48,
   "metadata": {
    "collapsed": true
   },
   "outputs": [],
   "source": [
    "def tsat(p) :\n",
    "    tc2k = 273.15\n",
    "    pstar = 1.e6\n",
    "    \n",
    "    nr4 = [0.11670521452767e4, -0.72421316703206e6, -0.17073846940092e2, 0.12020824702470e5, -0.32325550322333e7,\n",
    "           0.14915108613530e2, -0.48232657361591e4, 0.40511340542057e6, -0.238555575678490, 0.65017534844798e3]\n",
    "    \n",
    "    if ((p>=611.23)&(p<=22.064e6)) :\n",
    "        beta = np.power(p/pstar,0.25)\n",
    "        beta2 = beta * beta\n",
    "        ee = beta2 + nr4[2] * beta + nr4[5]\n",
    "        ff = nr4[0] * beta2 + nr4[3] * beta + nr4[6]\n",
    "        gg = nr4[1] * beta2 + nr4[4] * beta + nr4[7]\n",
    "        \n",
    "        dd = 2. * gg /(-ff - np.sqrt(ff * ff - 4. * ee * gg))\n",
    "        ts = (nr4[9] + dd - np.sqrt((nr4[9]+dd)*(nr4[9]+dd) - 4. *(nr4[8] + nr4[9] * dd)))/2.\n",
    "  \n",
    "    return ts"
   ]
  },
  {
   "cell_type": "markdown",
   "metadata": {},
   "source": [
    "Comparing the result of this calculation with the verification solutions given in Table 36 of *Revised Release on the IAPWS Industrial Formulation 1997 for the Thermodynamic Properties of Water and Steam*.\n",
    "\n",
    "\n",
    "P = $0.1$ MPa, Tsat = $0.372\\,755\\,919 \\times 10^{3}$ K\n",
    "\n",
    "P = $1$ MPa, Tsat = $0.453\\,035\\,632 \\times 10^{1}$ K\n",
    "\n",
    "P = $10$ MPa, Tsat = $0.584\\,149\\,488 \\times 10^{2}$ K\n"
   ]
  },
  {
   "cell_type": "code",
   "execution_count": 50,
   "metadata": {
    "collapsed": false
   },
   "outputs": [
    {
     "name": "stdout",
     "output_type": "stream",
     "text": [
      "P = 0.1 MPa, Tsat =  372.755918611\n",
      "P = 1.0 MPa, Tsat =  453.035632391\n",
      "P = 10.0 MPa, Tsat =  584.149487999\n"
     ]
    }
   ],
   "source": [
    "print 'P = 0.1 MPa, Tsat = ',tsat(0.1e6)\n",
    "print 'P = 1.0 MPa, Tsat = ',tsat(1.e6)\n",
    "print 'P = 10.0 MPa, Tsat = ',tsat(10.e6)"
   ]
  },
  {
   "cell_type": "markdown",
   "metadata": {},
   "source": [
    "Read in data obtained from NIST webbook (www.nist.giv)."
   ]
  },
  {
   "cell_type": "code",
   "execution_count": 106,
   "metadata": {
    "collapsed": false
   },
   "outputs": [],
   "source": [
    "colnames = ['Temperature', 'Pressure']\n",
    "nist_data = pd.read_csv('gold/water_saturation_temperature_nist.txt', delimiter ='\\t', header=None, names=colnames)"
   ]
  },
  {
   "cell_type": "markdown",
   "metadata": {},
   "source": [
    "Read in the MOOSE data from the FluidProperties UserObject."
   ]
  },
  {
   "cell_type": "code",
   "execution_count": 118,
   "metadata": {
    "collapsed": false
   },
   "outputs": [],
   "source": [
    "moose_data = pd.read_csv('gold/WaterProperty_tSat_vpp_0001.csv')"
   ]
  },
  {
   "cell_type": "code",
   "execution_count": 120,
   "metadata": {
    "collapsed": false
   },
   "outputs": [
    {
     "data": {
      "text/plain": [
       "<matplotlib.legend.Legend at 0x108f12c10>"
      ]
     },
     "execution_count": 120,
     "metadata": {},
     "output_type": "execute_result"
    },
    {
     "data": {
      "image/png": "[encoded data removed]",
      "text/plain": [
       "<matplotlib.figure.Figure at 0x108f12750>"
      ]
     },
     "metadata": {},
     "output_type": "display_data"
    }
   ],
   "source": [
    "plt.plot(moose_data.WaterPropertyAuxVariable,(10**moose_data.x/10.), 'o', label='MOOSE')\n",
    "plt.plot(nist_data.Temperature, nist_data.Pressure, label='NIST')\n",
    "plt.legend(loc='upper left')"
   ]
  },
  {
   "cell_type": "code",
   "execution_count": null,
   "metadata": {
    "collapsed": true
   },
   "outputs": [],
   "source": []
  }
 ],
 "metadata": {
  "kernelspec": {
   "display_name": "Python 2",
   "language": "python",
   "name": "python2"
  },
  "language_info": {
   "codemirror_mode": {
    "name": "ipython",
    "version": 2
   },
   "file_extension": ".py",
   "mimetype": "text/x-python",
   "name": "python",
   "nbconvert_exporter": "python",
   "pygments_lexer": "ipython2",
   "version": "2.7.9"
  }
 },
 "nbformat": 4,
 "nbformat_minor": 0
}
